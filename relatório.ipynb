{
 "cells": [
  {
   "cell_type": "code",
   "execution_count": null,
   "id": "90e9040a",
   "metadata": {},
   "outputs": [],
   "source": []
  },
  {
   "cell_type": "markdown",
   "id": "f89a8719",
   "metadata": {},
   "source": [
    "\n",
    "pip intall openpyxl"
   ]
  },
  {
   "cell_type": "code",
   "execution_count": null,
   "id": "fc554360",
   "metadata": {},
   "outputs": [],
   "source": []
  },
  {
   "cell_type": "markdown",
   "id": "0214a01b",
   "metadata": {},
   "source": [
    "import pandas as pd\n",
    "import numpy as np\n",
    "import os\n",
    "from IPython.display import clear_output"
   ]
  },
  {
   "cell_type": "code",
   "execution_count": 79,
   "id": "60ae485b",
   "metadata": {},
   "outputs": [],
   "source": [
    "import pandas as pd\n",
    "import numpy as np\n",
    "import os\n",
    "\n",
    "\n",
    "# Tipos do espd0068\n",
    "espd068Type = {\n",
    "    'Repres': 'int64',                 \n",
    "    'Nome Repres': 'object',          \n",
    "    'Estab': 'int64',                  \n",
    "    'Nr Nota Fiscal': 'int64',         \n",
    "    'Dt Emis Nota': 'str',          \n",
    "    'Cod Cliente': 'int64',           \n",
    "    'Nome Cliente': 'object',          \n",
    "    'Pedido': 'int64',                 \n",
    "    'Cod Item': 'int64',               \n",
    "    'Desc Item': 'object',            \n",
    "    'Qtde Faturada': 'int64',         \n",
    "    'Valor Unit Item': 'object',       \n",
    "    'Valor Total Item': 'object',      \n",
    "    'Qtd Nao Atendida': 'int64',       \n",
    "    'Valor Nao Atendido': 'object'\n",
    "}\n",
    "\n",
    "# Tipos do espd0028\n",
    "espd028Type = {\n",
    "    'Data_Implant': 'str',\n",
    "    'Nr_Pedido': 'int64',\n",
    "    'Nr_Cliente': 'int64',\n",
    "    'Nome_Abrev': 'object',\n",
    "    'Nome_Repre': 'object',\n",
    "    'Familia': 'object', # Este campo está em um lugar incorreto no seu arquivo\n",
    "    'Codigo_Item': 'int64',\n",
    "    'Descricao': 'object',\n",
    "    'Qt_Pedido': 'object',\n",
    "    'R_Unit': 'object',\n",
    "    'Qt_Aloc': 'int64',\n",
    "    'Vlr_Total': 'object',\n",
    "    'Est_Disp': 'object',\n",
    "    'Situacao': 'object',\n",
    "    'Entrega': 'str',\n",
    "    'MesAno': 'int64',\n",
    "    'Lista_Presente': 'int64',\n",
    "    'Observacao': 'object',\n",
    "    # As colunas abaixo parecem ser lixo e precisam ser ignoradas\n",
    "    'Lixo1': 'object',\n",
    "    'Lixo2': 'object',\n",
    "    'Lixo3': 'object',\n",
    "    'Lixo4': 'object',\n",
    "    'Lixo5': 'object',\n",
    "    'Lixo6': 'object',\n",
    "    'Lixo7': 'object',\n",
    "}"
   ]
  },
  {
   "cell_type": "code",
   "execution_count": 80,
   "id": "7ef36c2f",
   "metadata": {},
   "outputs": [],
   "source": [
    "import pandas as pd\n",
    "\n",
    "\n",
    "nomes_colunas = [\n",
    "    'Data_Implant', 'Nr_Pedido', 'Nr_Cliente', 'Nome_Abrev', 'Nome_Repre',\n",
    "    'Familia', 'Codigo_Item', 'Descricao', 'Qt_Pedido', 'R_Unit',\n",
    "    'Qt_Aloc', 'Vlr_Total', 'Est_Disp', 'Situacao', 'Entrega',\n",
    "    'MesAno', 'Lista_Presente', 'Observacao',\n",
    "    'Coluna19', 'Coluna20', 'Coluna21', 'Coluna22', 'Coluna23', 'Coluna24', 'Coluna25'\n",
    "]\n",
    "\n",
    "espd028 = pd.read_csv(\n",
    "    'espd0028.txt',\n",
    "    sep='@',\n",
    "    encoding='ISO-8859-1',\n",
    "    header=None,\n",
    "    names=nomes_colunas,\n",
    "    skiprows=1,  \n",
    "    dtype=espd028Type\n",
    ")\n",
    "\n",
    "\n",
    "colunas_para_remover = [\n",
    "    'Coluna19', 'Coluna20', 'Coluna21', 'Coluna22', 'Coluna23', 'Coluna24', 'Coluna25'\n",
    "]\n",
    "espd028 = espd028.drop(columns=colunas_para_remover)\n"
   ]
  },
  {
   "cell_type": "code",
   "execution_count": null,
   "id": "8552d10a",
   "metadata": {
    "scrolled": true
   },
   "outputs": [],
   "source": []
  },
  {
   "cell_type": "code",
   "execution_count": 81,
   "id": "5f5d06ed",
   "metadata": {},
   "outputs": [],
   "source": [
    "espd068_path = 'espd0068.txt'\n",
    "\n",
    "espd068 = pd.read_csv(espd068_path, sep='@', quotechar='\"', encoding='ISO-8859-1',dtype=espd068Type)\n",
    "\n",
    "\n",
    "espd068['Dt Emis Nota'] = pd.to_datetime(espd068['Dt Emis Nota'], format='%d/%m/%y')\n",
    "espd028['Data_Implant'] = pd.to_datetime(espd028['Data_Implant'], format='%d/%m/%y')\n",
    "espd028 = espd028.dropna(axis=1, how='all')\n",
    "\n",
    "espd028['Qt_Pedido'] = espd028['Qt_Pedido'].str.replace(',', '.', regex=False)\n",
    "\n",
    "espd028['Est_Disp'] = espd028['Est_Disp'].str.replace(',', '.', regex=False).astype(float).round().astype('Int64')\n",
    "\n"
   ]
  },
  {
   "cell_type": "code",
   "execution_count": 82,
   "id": "03327846",
   "metadata": {},
   "outputs": [],
   "source": [
    "#pedidos_validados =  [3280713, 3281004, 3280910, 3280706, 3280670, 3280049, 3279972, 3279970, 3279830, 3279827, 3279794, 3279684, 3279139, 3279138, 3279112, 3279067, 3278961, 3278849, 3278098, 3278021, 3277955, 3277923, 3277922, 3277911, 3277909, 3276941, 3277572, 3277458, 3277321, 3277320, 3277290, 3277163, 3277141, 3277113, 3277097, 3277091, 3277083, 3277050, 3277030, 3277024, 3277019, 3276995, 3276994, 3276993, 3276965, 3276963, 3276962, 3276960, 3276945, 3276944, 3276346, 3275299, 3274550, 3274448, 3274447, 3274423, 3274401, 3274412, 3274156, 3273706, 3272513, 3268221, 3268162, 3266131, 3266101, 3265952, 3264897, 3264858, 3264825, 3264857, 3263872, 3263811, 3261910, 3261703, 3261909, 3261160, 3259768, 3259340, 3259583, 3258742, 3256359, 3255807, 3255555, 3254971, 3254336, 3254180, 3254066, 3254063, 3252425, 3251764, 3251220, 3251072, 3250768, 3248435, 3248137, 3248110, 3248077, 3247907, 3247451, 3247325, 3246848, 3246733, 3246655, 3245862, 3244223, 3244222, 3243732, 3243723, 3243287, 3243276, 3242329, 3242251, 3241817, 3241708, 3241674, 3241673, 3241669, 3241668, 3241667, 3241666, 3241665, 3241660, 3241659, 3241635, 3241621, 3241619, 3241617, 3241359, 3241317, 3240804, 3240790, 3240769, 3240768, 3240765, 3240733, 3240732, 3240696, 3240694, 3240898, 3240897, 3240297, 3240102, 3240416, 3239741, 3239639, 3239589, 3239580, 3239486, 3239445, 3239407, 3239401, 3239399, 3239374, 3239371, 3239369, 3239367, 3239366, 3239345, 3239301, 3239291, 3239578, 3239124, 3239123, 3239121, 3239090, 3239088, 3239045, 3239010, 3238974, 3238945, 3238944, 3238923, 3238921, 3238884, 3238866, 3230194, 3220965, 3219721, 3219720, 3215194]\n",
    "#espd028 = espd028[espd028['Nr.Pedido'].isin(pedidos_validados)]"
   ]
  },
  {
   "cell_type": "markdown",
   "id": "5bfee294",
   "metadata": {},
   "source": []
  },
  {
   "cell_type": "code",
   "execution_count": 83,
   "id": "3c8f602d",
   "metadata": {},
   "outputs": [],
   "source": [
    "\n",
    "itens_codigo_especifico = espd028[espd028['Codigo_Item'] == 4111160404]\n",
    "\n",
    "itens_codigo_especifico = itens_codigo_especifico[['Codigo_Item', 'Est_Disp']]\n",
    "\n"
   ]
  },
  {
   "cell_type": "markdown",
   "id": "d217c041",
   "metadata": {},
   "source": [
    "####### Consolidando os dados no espd068 para cada combinação de Pedido e Cod Item"
   ]
  },
  {
   "cell_type": "code",
   "execution_count": 84,
   "id": "88596179",
   "metadata": {},
   "outputs": [],
   "source": [
    "\n",
    "\n",
    "##espd028.to_excel('espd0028 base.xlsx',index=False)\n",
    "espd068_consolidado = espd068.groupby(['Pedido', 'Cod Item'], as_index=False)['Qtde Faturada'].sum()\n",
    "\n",
    "\n",
    "espd028 = espd028.merge(\n",
    "    espd068_consolidado,\n",
    "    left_on=['Nr_Pedido', 'Codigo_Item'],\n",
    "    right_on=['Pedido', 'Cod Item'],\n",
    "    how='left'\n",
    ")\n",
    "\n",
    "\n",
    "espd028 = espd028.rename(columns={'Qtde Faturada': 'Qtde_Faturada'})\n",
    "\n",
    "\n",
    "espd028 = espd028.drop(columns=['Pedido', 'Cod Item'])\n",
    "\n",
    "\n",
    "espd028['Qtde_Faturada'] = espd028['Qtde_Faturada'].fillna(0).astype('Int64')\n",
    "\n"
   ]
  },
  {
   "cell_type": "code",
   "execution_count": null,
   "id": "425a0265",
   "metadata": {},
   "outputs": [],
   "source": []
  },
  {
   "cell_type": "code",
   "execution_count": 85,
   "id": "2cbb8d2d",
   "metadata": {},
   "outputs": [],
   "source": [
    "qtde_faturada_maior_que_zero = espd028[espd028['Qtde_Faturada'] > 0]\n"
   ]
  },
  {
   "cell_type": "code",
   "execution_count": 86,
   "id": "d38c2482",
   "metadata": {},
   "outputs": [],
   "source": [
    "\n",
    "espd028['Qt_Aloc'] = espd028['Qt_Aloc'] - espd028['Qtde_Faturada']"
   ]
  },
  {
   "cell_type": "code",
   "execution_count": 87,
   "id": "07744b32",
   "metadata": {},
   "outputs": [],
   "source": [
    "qtde_faturada_maior_que_zero = espd028[espd028['Qtde_Faturada'] > 0]"
   ]
  },
  {
   "cell_type": "code",
   "execution_count": 88,
   "id": "f4282dc7",
   "metadata": {},
   "outputs": [],
   "source": [
    "import numpy as np\n",
    "\n",
    "\n",
    "espd028['Qt_Pedido'] = np.where(\n",
    "    espd028['Situacao'] == 'Total', \n",
    "    0, \n",
    "    np.where(\n",
    "        espd028['Qt_Pedido'].fillna(0).astype(float) - espd028['Qt_Aloc'].fillna(0).astype(float) < 0, \n",
    "        0, \n",
    "        espd028['Qt_Pedido'].fillna(0).astype(float) - espd028['Qt_Aloc'].fillna(0).astype(float)\n",
    "    )\n",
    ")\n",
    "\n",
    "espd028['Qt_Pedido'] = espd028['Qt_Pedido'].astype(float).round().astype('Int64')\n",
    "\n"
   ]
  },
  {
   "cell_type": "code",
   "execution_count": null,
   "id": "0b8bafc9",
   "metadata": {},
   "outputs": [],
   "source": []
  },
  {
   "cell_type": "code",
   "execution_count": 89,
   "id": "c80dcb1d",
   "metadata": {},
   "outputs": [],
   "source": [
    "transito = pd.read_excel('transito.xlsx', header=0)\n",
    "\n",
    "text_columns = transito.columns[transito.columns.map(lambda x: isinstance(x, str))]\n",
    "\n",
    "espd028 = espd028.merge(\n",
    "    transito,\n",
    "    left_on='Codigo_Item',\n",
    "    right_on='Cod',\n",
    "    how='left'\n",
    ")\n",
    "for column in text_columns:\n",
    "    espd028[column] = espd028[column].fillna(0).astype(int)\n",
    "espd028 = espd028.drop(columns=['Cod'])"
   ]
  },
  {
   "cell_type": "code",
   "execution_count": null,
   "id": "3def18b2",
   "metadata": {},
   "outputs": [],
   "source": []
  },
  {
   "cell_type": "code",
   "execution_count": 90,
   "id": "d2b2bd31",
   "metadata": {},
   "outputs": [],
   "source": [
    "text_columns = transito.columns.tolist()\n",
    "if 'Cod' in text_columns:\n",
    "    text_columns.remove('Cod')\n",
    "text_columns.insert(0, 'Est_Disp')"
   ]
  },
  {
   "cell_type": "code",
   "execution_count": null,
   "id": "fa80aac3",
   "metadata": {},
   "outputs": [],
   "source": []
  },
  {
   "cell_type": "code",
   "execution_count": 91,
   "id": "a24d1f25",
   "metadata": {},
   "outputs": [],
   "source": [
    "estoque_inicial = espd028[['Codigo_Item'] + text_columns].copy()\n",
    "\n",
    "\n",
    "estoque_inicial = estoque_inicial.drop_duplicates(subset='Codigo_Item')\n",
    "\n",
    "\n",
    "estoque_inicial[text_columns] = estoque_inicial[text_columns].fillna(0).astype(int)\n"
   ]
  },
  {
   "cell_type": "code",
   "execution_count": 92,
   "id": "4e2e4d5b",
   "metadata": {},
   "outputs": [
    {
     "name": "stdout",
     "output_type": "stream",
     "text": [
      "Simulação de faturamento por pedido concluída. Arquivo \"Faturado_Total_Estrategias.xlsx\" gerado.\n"
     ]
    }
   ],
   "source": [
    "import random\n",
    "\n",
    "\n",
    "espd028.to_excel('espd0028 final.xlsx',index=False)\n",
    "\n",
    "espd028['Valor Item'] = espd028['R_Unit'].apply(lambda x: float(x.replace(',', '.'))) * espd028['Qt_Pedido']\n",
    "\n",
    "\n",
    "pedidos_totais = espd028.groupby('Nr_Pedido', as_index=False)['Valor Item'].sum()\n",
    "pedidos_totais = pedidos_totais.rename(columns={'Valor Item': 'Valor Total Pedido'})\n",
    "\n",
    "\n",
    "espd028 = espd028.merge(pedidos_totais, on='Nr_Pedido', how='left')\n",
    "\n",
    "\n",
    "pedidos = espd028['Nr_Pedido'].unique()\n",
    "\n",
    "\n",
    "pedidos_maior_para_menor = list(pedidos_totais.sort_values(by='Valor Total Pedido', ascending=False)['Nr_Pedido'])\n",
    "\n",
    "pedidos_menor_para_maior = list(pedidos_totais.sort_values(by='Valor Total Pedido', ascending=True)['Nr_Pedido'])\n",
    "\n",
    "pedidos_aleatorio1 = list(pedidos)\n",
    "pedidos_aleatorio2 = list(pedidos)\n",
    "random.shuffle(pedidos_aleatorio1)\n",
    "random.shuffle(pedidos_aleatorio2)\n",
    "\n",
    "estrategias = {\n",
    "    'Maior para Menor': pedidos_maior_para_menor,\n",
    "    'Menor para Maior': pedidos_menor_para_maior,\n",
    "    'Aleatório 1': pedidos_aleatorio1,\n",
    "    'Aleatório 2': pedidos_aleatorio2\n",
    "}\n",
    "\n",
    "def simular_faturamento(pedidos_ordem, espd028, estoque_inicial, text_columns):\n",
    "    faturado_total = []\n",
    "\n",
    "    estoque_sim = estoque_inicial.copy(deep=True)\n",
    "    ordem_faturamento = 0\n",
    "\n",
    "    for pedido in pedidos_ordem:\n",
    "        ordem_faturamento += 1  \n",
    "        itens_pedido = espd028[espd028['Nr_Pedido'] == pedido].copy()\n",
    "\n",
    "       \n",
    "        for estoque_col in text_columns:\n",
    "         \n",
    "            for idx, item in itens_pedido.iterrows():\n",
    "                qt_pedido = item['Qt_Pedido']\n",
    "                if qt_pedido <= 0:\n",
    "                    continue \n",
    "\n",
    "                cliente = item['Nr_Cliente']\n",
    "                familia = item['Familia']\n",
    "                codigo_item = item['Codigo_Item']\n",
    "                valor_unit = float(item['R_Unit'].replace(',', '.'))\n",
    "\n",
    "               \n",
    "                if codigo_item not in estoque_sim['Codigo_Item'].values:\n",
    "                    continue\n",
    "\n",
    "              \n",
    "                estoque_item = estoque_sim[estoque_sim['Codigo_Item'] == codigo_item].iloc[0]\n",
    "                estoque_atual = estoque_item[estoque_col]\n",
    "\n",
    "                if estoque_atual > 0:\n",
    "                    qt_faturada = min(qt_pedido, estoque_atual)\n",
    "                    valor_faturado = qt_faturada * valor_unit\n",
    "\n",
    "                    faturado_total.append({\n",
    "                        'Nr_Pedido': pedido,\n",
    "                        'Nr_Cliente': cliente,\n",
    "                        'Familia': familia,\n",
    "                        'Codigo_Item': codigo_item,\n",
    "                        'Qtde Faturada': qt_faturada,\n",
    "                        'Valor Faturado': valor_faturado,\n",
    "                        'Estoque Faturado': estoque_col,\n",
    "                        'Ordem Faturamento Pedido': ordem_faturamento,\n",
    "                    })\n",
    "\n",
    "                  \n",
    "                    itens_pedido.loc[idx, 'Qt_Pedido'] -= qt_faturada\n",
    "                    estoque_sim.loc[estoque_sim['Codigo_Item'] == codigo_item, estoque_col] -= qt_faturada\n",
    "\n",
    "    \n",
    "    return pd.DataFrame(faturado_total)\n",
    "\n",
    "with pd.ExcelWriter('Faturado_Total_Estrategias.xlsx') as writer:\n",
    "    for nome_estrategia, pedidos_ordem in estrategias.items():\n",
    "        resultado = simular_faturamento(pedidos_ordem, espd028, estoque_inicial, text_columns)\n",
    "        resultado.to_excel(writer, sheet_name=nome_estrategia, index=False)\n",
    "\n",
    "print('Simulação de faturamento por pedido concluída. Arquivo \"Faturado_Total_Estrategias.xlsx\" gerado.')"
   ]
  },
  {
   "cell_type": "code",
   "execution_count": null,
   "id": "619598d4",
   "metadata": {},
   "outputs": [],
   "source": []
  },
  {
   "cell_type": "code",
   "execution_count": null,
   "id": "d4848214",
   "metadata": {},
   "outputs": [],
   "source": []
  }
 ],
 "metadata": {
  "kernelspec": {
   "display_name": "Python 3",
   "language": "python",
   "name": "python3"
  },
  "language_info": {
   "codemirror_mode": {
    "name": "ipython",
    "version": 3
   },
   "file_extension": ".py",
   "mimetype": "text/x-python",
   "name": "python",
   "nbconvert_exporter": "python",
   "pygments_lexer": "ipython3",
   "version": "3.10.12"
  }
 },
 "nbformat": 4,
 "nbformat_minor": 5
}
